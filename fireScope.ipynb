{
 "cells": [
  {
   "cell_type": "markdown",
   "metadata": {},
   "source": [
    "**Import modules**"
   ]
  },
  {
   "cell_type": "code",
   "execution_count": 6,
   "metadata": {},
   "outputs": [],
   "source": [
    "import pandas as pd\n",
    "import sqlite3\n",
    "import zipfile"
   ]
  },
  {
   "cell_type": "markdown",
   "metadata": {},
   "source": [
    "**Read in the wildfire dataset and display columns**\n",
    "\n",
    "- Download dataset from https://www.kaggle.com/datasets/rtatman/188-million-us-wildfires/data\n",
    "- unzip into /data directory"
   ]
  },
  {
   "cell_type": "code",
   "execution_count": 7,
   "metadata": {},
   "outputs": [],
   "source": [
    "# extract the zipped dataset\n",
    "\n",
    "with zipfile.ZipFile('./data/archive.zip', 'r') as zipped:\n",
    "    zipped.extractall('./data/')"
   ]
  },
  {
   "cell_type": "code",
   "execution_count": null,
   "metadata": {},
   "outputs": [],
   "source": [
    "# connect to the sqlite database\n",
    "conn = sqlite3.connect('data/FPA_FOD_20170508.sqlite')"
   ]
  },
  {
   "cell_type": "code",
   "execution_count": 15,
   "metadata": {},
   "outputs": [],
   "source": [
    "tables = pd.read_sql_query(\n",
    "    \"\"\"\n",
    "    SELECT name FROM sqlite_master WHERE type='table'\n",
    "    \"\"\"\n",
    "    , conn)"
   ]
  },
  {
   "cell_type": "code",
   "execution_count": 16,
   "metadata": {},
   "outputs": [
    {
     "data": {
      "text/html": [
       "<div>\n",
       "<style scoped>\n",
       "    .dataframe tbody tr th:only-of-type {\n",
       "        vertical-align: middle;\n",
       "    }\n",
       "\n",
       "    .dataframe tbody tr th {\n",
       "        vertical-align: top;\n",
       "    }\n",
       "\n",
       "    .dataframe thead th {\n",
       "        text-align: right;\n",
       "    }\n",
       "</style>\n",
       "<table border=\"1\" class=\"dataframe\">\n",
       "  <thead>\n",
       "    <tr style=\"text-align: right;\">\n",
       "      <th></th>\n",
       "      <th>name</th>\n",
       "    </tr>\n",
       "  </thead>\n",
       "  <tbody>\n",
       "    <tr>\n",
       "      <th>0</th>\n",
       "      <td>spatial_ref_sys</td>\n",
       "    </tr>\n",
       "    <tr>\n",
       "      <th>1</th>\n",
       "      <td>spatialite_history</td>\n",
       "    </tr>\n",
       "    <tr>\n",
       "      <th>2</th>\n",
       "      <td>sqlite_sequence</td>\n",
       "    </tr>\n",
       "    <tr>\n",
       "      <th>3</th>\n",
       "      <td>geometry_columns</td>\n",
       "    </tr>\n",
       "    <tr>\n",
       "      <th>4</th>\n",
       "      <td>spatial_ref_sys_aux</td>\n",
       "    </tr>\n",
       "    <tr>\n",
       "      <th>5</th>\n",
       "      <td>views_geometry_columns</td>\n",
       "    </tr>\n",
       "    <tr>\n",
       "      <th>6</th>\n",
       "      <td>virts_geometry_columns</td>\n",
       "    </tr>\n",
       "    <tr>\n",
       "      <th>7</th>\n",
       "      <td>geometry_columns_statistics</td>\n",
       "    </tr>\n",
       "    <tr>\n",
       "      <th>8</th>\n",
       "      <td>views_geometry_columns_statistics</td>\n",
       "    </tr>\n",
       "    <tr>\n",
       "      <th>9</th>\n",
       "      <td>virts_geometry_columns_statistics</td>\n",
       "    </tr>\n",
       "    <tr>\n",
       "      <th>10</th>\n",
       "      <td>geometry_columns_field_infos</td>\n",
       "    </tr>\n",
       "    <tr>\n",
       "      <th>11</th>\n",
       "      <td>views_geometry_columns_field_infos</td>\n",
       "    </tr>\n",
       "    <tr>\n",
       "      <th>12</th>\n",
       "      <td>virts_geometry_columns_field_infos</td>\n",
       "    </tr>\n",
       "    <tr>\n",
       "      <th>13</th>\n",
       "      <td>geometry_columns_time</td>\n",
       "    </tr>\n",
       "    <tr>\n",
       "      <th>14</th>\n",
       "      <td>geometry_columns_auth</td>\n",
       "    </tr>\n",
       "    <tr>\n",
       "      <th>15</th>\n",
       "      <td>views_geometry_columns_auth</td>\n",
       "    </tr>\n",
       "    <tr>\n",
       "      <th>16</th>\n",
       "      <td>virts_geometry_columns_auth</td>\n",
       "    </tr>\n",
       "    <tr>\n",
       "      <th>17</th>\n",
       "      <td>sql_statements_log</td>\n",
       "    </tr>\n",
       "    <tr>\n",
       "      <th>18</th>\n",
       "      <td>SpatialIndex</td>\n",
       "    </tr>\n",
       "    <tr>\n",
       "      <th>19</th>\n",
       "      <td>ElementaryGeometries</td>\n",
       "    </tr>\n",
       "    <tr>\n",
       "      <th>20</th>\n",
       "      <td>KNN</td>\n",
       "    </tr>\n",
       "    <tr>\n",
       "      <th>21</th>\n",
       "      <td>Fires</td>\n",
       "    </tr>\n",
       "    <tr>\n",
       "      <th>22</th>\n",
       "      <td>idx_Fires_Shape</td>\n",
       "    </tr>\n",
       "    <tr>\n",
       "      <th>23</th>\n",
       "      <td>idx_Fires_Shape_node</td>\n",
       "    </tr>\n",
       "    <tr>\n",
       "      <th>24</th>\n",
       "      <td>idx_Fires_Shape_rowid</td>\n",
       "    </tr>\n",
       "    <tr>\n",
       "      <th>25</th>\n",
       "      <td>idx_Fires_Shape_parent</td>\n",
       "    </tr>\n",
       "    <tr>\n",
       "      <th>26</th>\n",
       "      <td>NWCG_UnitIDActive_20170109</td>\n",
       "    </tr>\n",
       "  </tbody>\n",
       "</table>\n",
       "</div>"
      ],
      "text/plain": [
       "                                  name\n",
       "0                      spatial_ref_sys\n",
       "1                   spatialite_history\n",
       "2                      sqlite_sequence\n",
       "3                     geometry_columns\n",
       "4                  spatial_ref_sys_aux\n",
       "5               views_geometry_columns\n",
       "6               virts_geometry_columns\n",
       "7          geometry_columns_statistics\n",
       "8    views_geometry_columns_statistics\n",
       "9    virts_geometry_columns_statistics\n",
       "10        geometry_columns_field_infos\n",
       "11  views_geometry_columns_field_infos\n",
       "12  virts_geometry_columns_field_infos\n",
       "13               geometry_columns_time\n",
       "14               geometry_columns_auth\n",
       "15         views_geometry_columns_auth\n",
       "16         virts_geometry_columns_auth\n",
       "17                  sql_statements_log\n",
       "18                        SpatialIndex\n",
       "19                ElementaryGeometries\n",
       "20                                 KNN\n",
       "21                               Fires\n",
       "22                     idx_Fires_Shape\n",
       "23                idx_Fires_Shape_node\n",
       "24               idx_Fires_Shape_rowid\n",
       "25              idx_Fires_Shape_parent\n",
       "26          NWCG_UnitIDActive_20170109"
      ]
     },
     "execution_count": 16,
     "metadata": {},
     "output_type": "execute_result"
    }
   ],
   "source": [
    "# Print out the table names\n",
    "tables"
   ]
  },
  {
   "cell_type": "markdown",
   "metadata": {},
   "source": [
    "**Utilizing Fires Table**"
   ]
  },
  {
   "cell_type": "code",
   "execution_count": 20,
   "metadata": {},
   "outputs": [],
   "source": [
    "# read in the fires table\n",
    "\n",
    "\n",
    "wildfireDf = pd.read_sql_query(\n",
    "    \"\"\"\n",
    "    SELECT * \n",
    "    FROM fires\n",
    "    \"\"\"\n",
    "    , conn)"
   ]
  },
  {
   "cell_type": "markdown",
   "metadata": {},
   "source": [
    "**Exploratory Data Analysis**\n",
    "Display the first 5 rows"
   ]
  },
  {
   "cell_type": "code",
   "execution_count": 10,
   "metadata": {},
   "outputs": [
    {
     "data": {
      "text/html": [
       "<div>\n",
       "<style scoped>\n",
       "    .dataframe tbody tr th:only-of-type {\n",
       "        vertical-align: middle;\n",
       "    }\n",
       "\n",
       "    .dataframe tbody tr th {\n",
       "        vertical-align: top;\n",
       "    }\n",
       "\n",
       "    .dataframe thead th {\n",
       "        text-align: right;\n",
       "    }\n",
       "</style>\n",
       "<table border=\"1\" class=\"dataframe\">\n",
       "  <thead>\n",
       "    <tr style=\"text-align: right;\">\n",
       "      <th></th>\n",
       "      <th>OBJECTID</th>\n",
       "      <th>FOD_ID</th>\n",
       "      <th>FPA_ID</th>\n",
       "      <th>SOURCE_SYSTEM_TYPE</th>\n",
       "      <th>SOURCE_SYSTEM</th>\n",
       "      <th>NWCG_REPORTING_AGENCY</th>\n",
       "      <th>NWCG_REPORTING_UNIT_ID</th>\n",
       "      <th>NWCG_REPORTING_UNIT_NAME</th>\n",
       "      <th>SOURCE_REPORTING_UNIT</th>\n",
       "      <th>SOURCE_REPORTING_UNIT_NAME</th>\n",
       "      <th>...</th>\n",
       "      <th>FIRE_SIZE_CLASS</th>\n",
       "      <th>LATITUDE</th>\n",
       "      <th>LONGITUDE</th>\n",
       "      <th>OWNER_CODE</th>\n",
       "      <th>OWNER_DESCR</th>\n",
       "      <th>STATE</th>\n",
       "      <th>COUNTY</th>\n",
       "      <th>FIPS_CODE</th>\n",
       "      <th>FIPS_NAME</th>\n",
       "      <th>Shape</th>\n",
       "    </tr>\n",
       "  </thead>\n",
       "  <tbody>\n",
       "    <tr>\n",
       "      <th>0</th>\n",
       "      <td>1</td>\n",
       "      <td>1</td>\n",
       "      <td>FS-1418826</td>\n",
       "      <td>FED</td>\n",
       "      <td>FS-FIRESTAT</td>\n",
       "      <td>FS</td>\n",
       "      <td>USCAPNF</td>\n",
       "      <td>Plumas National Forest</td>\n",
       "      <td>0511</td>\n",
       "      <td>Plumas National Forest</td>\n",
       "      <td>...</td>\n",
       "      <td>A</td>\n",
       "      <td>40.036944</td>\n",
       "      <td>-121.005833</td>\n",
       "      <td>5.0</td>\n",
       "      <td>USFS</td>\n",
       "      <td>CA</td>\n",
       "      <td>63</td>\n",
       "      <td>063</td>\n",
       "      <td>Plumas</td>\n",
       "      <td>b'\\x00\\x01\\xad\\x10\\x00\\x00\\xe8d\\xc2\\x92_@^\\xc0...</td>\n",
       "    </tr>\n",
       "    <tr>\n",
       "      <th>1</th>\n",
       "      <td>2</td>\n",
       "      <td>2</td>\n",
       "      <td>FS-1418827</td>\n",
       "      <td>FED</td>\n",
       "      <td>FS-FIRESTAT</td>\n",
       "      <td>FS</td>\n",
       "      <td>USCAENF</td>\n",
       "      <td>Eldorado National Forest</td>\n",
       "      <td>0503</td>\n",
       "      <td>Eldorado National Forest</td>\n",
       "      <td>...</td>\n",
       "      <td>A</td>\n",
       "      <td>38.933056</td>\n",
       "      <td>-120.404444</td>\n",
       "      <td>5.0</td>\n",
       "      <td>USFS</td>\n",
       "      <td>CA</td>\n",
       "      <td>61</td>\n",
       "      <td>061</td>\n",
       "      <td>Placer</td>\n",
       "      <td>b'\\x00\\x01\\xad\\x10\\x00\\x00T\\xb6\\xeej\\xe2\\x19^\\...</td>\n",
       "    </tr>\n",
       "    <tr>\n",
       "      <th>2</th>\n",
       "      <td>3</td>\n",
       "      <td>3</td>\n",
       "      <td>FS-1418835</td>\n",
       "      <td>FED</td>\n",
       "      <td>FS-FIRESTAT</td>\n",
       "      <td>FS</td>\n",
       "      <td>USCAENF</td>\n",
       "      <td>Eldorado National Forest</td>\n",
       "      <td>0503</td>\n",
       "      <td>Eldorado National Forest</td>\n",
       "      <td>...</td>\n",
       "      <td>A</td>\n",
       "      <td>38.984167</td>\n",
       "      <td>-120.735556</td>\n",
       "      <td>13.0</td>\n",
       "      <td>STATE OR PRIVATE</td>\n",
       "      <td>CA</td>\n",
       "      <td>17</td>\n",
       "      <td>017</td>\n",
       "      <td>El Dorado</td>\n",
       "      <td>b'\\x00\\x01\\xad\\x10\\x00\\x00\\xd0\\xa5\\xa0W\\x13/^\\...</td>\n",
       "    </tr>\n",
       "    <tr>\n",
       "      <th>3</th>\n",
       "      <td>4</td>\n",
       "      <td>4</td>\n",
       "      <td>FS-1418845</td>\n",
       "      <td>FED</td>\n",
       "      <td>FS-FIRESTAT</td>\n",
       "      <td>FS</td>\n",
       "      <td>USCAENF</td>\n",
       "      <td>Eldorado National Forest</td>\n",
       "      <td>0503</td>\n",
       "      <td>Eldorado National Forest</td>\n",
       "      <td>...</td>\n",
       "      <td>A</td>\n",
       "      <td>38.559167</td>\n",
       "      <td>-119.913333</td>\n",
       "      <td>5.0</td>\n",
       "      <td>USFS</td>\n",
       "      <td>CA</td>\n",
       "      <td>3</td>\n",
       "      <td>003</td>\n",
       "      <td>Alpine</td>\n",
       "      <td>b'\\x00\\x01\\xad\\x10\\x00\\x00\\x94\\xac\\xa3\\rt\\xfa]...</td>\n",
       "    </tr>\n",
       "    <tr>\n",
       "      <th>4</th>\n",
       "      <td>5</td>\n",
       "      <td>5</td>\n",
       "      <td>FS-1418847</td>\n",
       "      <td>FED</td>\n",
       "      <td>FS-FIRESTAT</td>\n",
       "      <td>FS</td>\n",
       "      <td>USCAENF</td>\n",
       "      <td>Eldorado National Forest</td>\n",
       "      <td>0503</td>\n",
       "      <td>Eldorado National Forest</td>\n",
       "      <td>...</td>\n",
       "      <td>A</td>\n",
       "      <td>38.559167</td>\n",
       "      <td>-119.933056</td>\n",
       "      <td>5.0</td>\n",
       "      <td>USFS</td>\n",
       "      <td>CA</td>\n",
       "      <td>3</td>\n",
       "      <td>003</td>\n",
       "      <td>Alpine</td>\n",
       "      <td>b'\\x00\\x01\\xad\\x10\\x00\\x00@\\xe3\\xaa.\\xb7\\xfb]\\...</td>\n",
       "    </tr>\n",
       "  </tbody>\n",
       "</table>\n",
       "<p>5 rows × 39 columns</p>\n",
       "</div>"
      ],
      "text/plain": [
       "   OBJECTID  FOD_ID      FPA_ID SOURCE_SYSTEM_TYPE SOURCE_SYSTEM  \\\n",
       "0         1       1  FS-1418826                FED   FS-FIRESTAT   \n",
       "1         2       2  FS-1418827                FED   FS-FIRESTAT   \n",
       "2         3       3  FS-1418835                FED   FS-FIRESTAT   \n",
       "3         4       4  FS-1418845                FED   FS-FIRESTAT   \n",
       "4         5       5  FS-1418847                FED   FS-FIRESTAT   \n",
       "\n",
       "  NWCG_REPORTING_AGENCY NWCG_REPORTING_UNIT_ID  NWCG_REPORTING_UNIT_NAME  \\\n",
       "0                    FS                USCAPNF    Plumas National Forest   \n",
       "1                    FS                USCAENF  Eldorado National Forest   \n",
       "2                    FS                USCAENF  Eldorado National Forest   \n",
       "3                    FS                USCAENF  Eldorado National Forest   \n",
       "4                    FS                USCAENF  Eldorado National Forest   \n",
       "\n",
       "  SOURCE_REPORTING_UNIT SOURCE_REPORTING_UNIT_NAME  ... FIRE_SIZE_CLASS  \\\n",
       "0                  0511     Plumas National Forest  ...               A   \n",
       "1                  0503   Eldorado National Forest  ...               A   \n",
       "2                  0503   Eldorado National Forest  ...               A   \n",
       "3                  0503   Eldorado National Forest  ...               A   \n",
       "4                  0503   Eldorado National Forest  ...               A   \n",
       "\n",
       "    LATITUDE   LONGITUDE OWNER_CODE       OWNER_DESCR STATE COUNTY FIPS_CODE  \\\n",
       "0  40.036944 -121.005833        5.0              USFS    CA     63       063   \n",
       "1  38.933056 -120.404444        5.0              USFS    CA     61       061   \n",
       "2  38.984167 -120.735556       13.0  STATE OR PRIVATE    CA     17       017   \n",
       "3  38.559167 -119.913333        5.0              USFS    CA      3       003   \n",
       "4  38.559167 -119.933056        5.0              USFS    CA      3       003   \n",
       "\n",
       "   FIPS_NAME                                              Shape  \n",
       "0     Plumas  b'\\x00\\x01\\xad\\x10\\x00\\x00\\xe8d\\xc2\\x92_@^\\xc0...  \n",
       "1     Placer  b'\\x00\\x01\\xad\\x10\\x00\\x00T\\xb6\\xeej\\xe2\\x19^\\...  \n",
       "2  El Dorado  b'\\x00\\x01\\xad\\x10\\x00\\x00\\xd0\\xa5\\xa0W\\x13/^\\...  \n",
       "3     Alpine  b'\\x00\\x01\\xad\\x10\\x00\\x00\\x94\\xac\\xa3\\rt\\xfa]...  \n",
       "4     Alpine  b'\\x00\\x01\\xad\\x10\\x00\\x00@\\xe3\\xaa.\\xb7\\xfb]\\...  \n",
       "\n",
       "[5 rows x 39 columns]"
      ]
     },
     "execution_count": 10,
     "metadata": {},
     "output_type": "execute_result"
    }
   ],
   "source": [
    "wildfireDf.head()"
   ]
  },
  {
   "cell_type": "code",
   "execution_count": 12,
   "metadata": {},
   "outputs": [
    {
     "data": {
      "text/plain": [
       "<bound method NDFrame.describe of          OBJECTID     FOD_ID             FPA_ID SOURCE_SYSTEM_TYPE  \\\n",
       "0               1          1         FS-1418826                FED   \n",
       "1               2          2         FS-1418827                FED   \n",
       "2               3          3         FS-1418835                FED   \n",
       "3               4          4         FS-1418845                FED   \n",
       "4               5          5         FS-1418847                FED   \n",
       "...           ...        ...                ...                ...   \n",
       "1880460   1880461  300348363  2015CAIRS29019636             NONFED   \n",
       "1880461   1880462  300348373  2015CAIRS29217935             NONFED   \n",
       "1880462   1880463  300348375  2015CAIRS28364460             NONFED   \n",
       "1880463   1880464  300348377  2015CAIRS29218079             NONFED   \n",
       "1880464   1880465  300348399  2015CAIRS26733926             NONFED   \n",
       "\n",
       "        SOURCE_SYSTEM NWCG_REPORTING_AGENCY NWCG_REPORTING_UNIT_ID  \\\n",
       "0         FS-FIRESTAT                    FS                USCAPNF   \n",
       "1         FS-FIRESTAT                    FS                USCAENF   \n",
       "2         FS-FIRESTAT                    FS                USCAENF   \n",
       "3         FS-FIRESTAT                    FS                USCAENF   \n",
       "4         FS-FIRESTAT                    FS                USCAENF   \n",
       "...               ...                   ...                    ...   \n",
       "1880460      ST-CACDF                ST/C&L                USCASHU   \n",
       "1880461      ST-CACDF                ST/C&L                USCATCU   \n",
       "1880462      ST-CACDF                ST/C&L                USCATCU   \n",
       "1880463      ST-CACDF                ST/C&L                USCATCU   \n",
       "1880464      ST-CACDF                ST/C&L                USCABDU   \n",
       "\n",
       "         NWCG_REPORTING_UNIT_NAME SOURCE_REPORTING_UNIT  \\\n",
       "0          Plumas National Forest                  0511   \n",
       "1        Eldorado National Forest                  0503   \n",
       "2        Eldorado National Forest                  0503   \n",
       "3        Eldorado National Forest                  0503   \n",
       "4        Eldorado National Forest                  0503   \n",
       "...                           ...                   ...   \n",
       "1880460       Shasta-Trinity Unit                 CASHU   \n",
       "1880461   Tuolumne-Calaveras Unit                 CATCU   \n",
       "1880462   Tuolumne-Calaveras Unit                 CATCU   \n",
       "1880463   Tuolumne-Calaveras Unit                 CATCU   \n",
       "1880464       San Bernardino Unit                 CABDU   \n",
       "\n",
       "        SOURCE_REPORTING_UNIT_NAME  ... FIRE_SIZE_CLASS   LATITUDE  \\\n",
       "0           Plumas National Forest  ...               A  40.036944   \n",
       "1         Eldorado National Forest  ...               A  38.933056   \n",
       "2         Eldorado National Forest  ...               A  38.984167   \n",
       "3         Eldorado National Forest  ...               A  38.559167   \n",
       "4         Eldorado National Forest  ...               A  38.559167   \n",
       "...                            ...  ...             ...        ...   \n",
       "1880460        Shasta-Trinity Unit  ...               A  40.481637   \n",
       "1880461    Tuolumne-Calaveras Unit  ...               A  37.617619   \n",
       "1880462    Tuolumne-Calaveras Unit  ...               A  37.617619   \n",
       "1880463    Tuolumne-Calaveras Unit  ...               B  37.672235   \n",
       "1880464  CDF - San Bernardino Unit  ...               A  34.263217   \n",
       "\n",
       "          LONGITUDE OWNER_CODE       OWNER_DESCR STATE COUNTY FIPS_CODE  \\\n",
       "0       -121.005833        5.0              USFS    CA     63       063   \n",
       "1       -120.404444        5.0              USFS    CA     61       061   \n",
       "2       -120.735556       13.0  STATE OR PRIVATE    CA     17       017   \n",
       "3       -119.913333        5.0              USFS    CA      3       003   \n",
       "4       -119.933056        5.0              USFS    CA      3       003   \n",
       "...             ...        ...               ...   ...    ...       ...   \n",
       "1880460 -122.389375       13.0  STATE OR PRIVATE    CA   None      None   \n",
       "1880461 -120.938570       12.0   MUNICIPAL/LOCAL    CA   None      None   \n",
       "1880462 -120.938570       12.0   MUNICIPAL/LOCAL    CA   None      None   \n",
       "1880463 -120.898356       12.0   MUNICIPAL/LOCAL    CA   None      None   \n",
       "1880464 -116.830950       13.0  STATE OR PRIVATE    CA   None      None   \n",
       "\n",
       "         FIPS_NAME                                              Shape  \n",
       "0           Plumas  b'\\x00\\x01\\xad\\x10\\x00\\x00\\xe8d\\xc2\\x92_@^\\xc0...  \n",
       "1           Placer  b'\\x00\\x01\\xad\\x10\\x00\\x00T\\xb6\\xeej\\xe2\\x19^\\...  \n",
       "2        El Dorado  b'\\x00\\x01\\xad\\x10\\x00\\x00\\xd0\\xa5\\xa0W\\x13/^\\...  \n",
       "3           Alpine  b'\\x00\\x01\\xad\\x10\\x00\\x00\\x94\\xac\\xa3\\rt\\xfa]...  \n",
       "4           Alpine  b'\\x00\\x01\\xad\\x10\\x00\\x00@\\xe3\\xaa.\\xb7\\xfb]\\...  \n",
       "...            ...                                                ...  \n",
       "1880460       None  b'\\x00\\x01\\xad\\x10\\x00\\x00P\\xb8\\x1e\\x85\\xeb\\x9...  \n",
       "1880461       None  b'\\x00\\x01\\xad\\x10\\x00\\x00\\x00\\x80\\xbe\\x88\\x11...  \n",
       "1880462       None  b'\\x00\\x01\\xad\\x10\\x00\\x00\\x00\\x80\\xbe\\x88\\x11...  \n",
       "1880463       None  b'\\x00\\x01\\xad\\x10\\x00\\x00x\\xba_\\xaa~9^\\xc0\\xb...  \n",
       "1880464       None  b'\\x00\\x01\\xad\\x10\\x00\\x00\\x1c\\xa7\\xe8H.5]\\xc0...  \n",
       "\n",
       "[1880465 rows x 39 columns]>"
      ]
     },
     "execution_count": 12,
     "metadata": {},
     "output_type": "execute_result"
    }
   ],
   "source": [
    "# Describe the dataset\n",
    "wildfireDf.describe"
   ]
  },
  {
   "cell_type": "code",
   "execution_count": 17,
   "metadata": {},
   "outputs": [],
   "source": [
    "#TODO: Naveen\n",
    "#Clean dataframe, later drop columns we don't end up using\n",
    "# don't drop na\n"
   ]
  },
  {
   "cell_type": "code",
   "execution_count": 22,
   "metadata": {},
   "outputs": [],
   "source": [
    "wildfireAnalysisDf = wildfireDf.drop_duplicates()"
   ]
  },
  {
   "cell_type": "code",
   "execution_count": 23,
   "metadata": {},
   "outputs": [
    {
     "data": {
      "text/plain": [
       "Index(['OBJECTID', 'FOD_ID', 'FPA_ID', 'SOURCE_SYSTEM_TYPE', 'SOURCE_SYSTEM',\n",
       "       'NWCG_REPORTING_AGENCY', 'NWCG_REPORTING_UNIT_ID',\n",
       "       'NWCG_REPORTING_UNIT_NAME', 'SOURCE_REPORTING_UNIT',\n",
       "       'SOURCE_REPORTING_UNIT_NAME', 'LOCAL_FIRE_REPORT_ID',\n",
       "       'LOCAL_INCIDENT_ID', 'FIRE_CODE', 'FIRE_NAME',\n",
       "       'ICS_209_INCIDENT_NUMBER', 'ICS_209_NAME', 'MTBS_ID', 'MTBS_FIRE_NAME',\n",
       "       'COMPLEX_NAME', 'FIRE_YEAR', 'DISCOVERY_DATE', 'DISCOVERY_DOY',\n",
       "       'DISCOVERY_TIME', 'STAT_CAUSE_CODE', 'STAT_CAUSE_DESCR', 'CONT_DATE',\n",
       "       'CONT_DOY', 'CONT_TIME', 'FIRE_SIZE', 'FIRE_SIZE_CLASS', 'LATITUDE',\n",
       "       'LONGITUDE', 'OWNER_CODE', 'OWNER_DESCR', 'STATE', 'COUNTY',\n",
       "       'FIPS_CODE', 'FIPS_NAME', 'Shape'],\n",
       "      dtype='object')"
      ]
     },
     "execution_count": 23,
     "metadata": {},
     "output_type": "execute_result"
    }
   ],
   "source": [
    "wildfireAnalysisDf.columns"
   ]
  },
  {
   "cell_type": "code",
   "execution_count": 19,
   "metadata": {},
   "outputs": [
    {
     "data": {
      "text/plain": [
       "<bound method NDFrame.describe of          OBJECTID     FOD_ID      FPA_ID SOURCE_SYSTEM_TYPE SOURCE_SYSTEM  \\\n",
       "188           189        192  FS-1419313                FED   FS-FIRESTAT   \n",
       "1505         1506       1520  FS-1422195                FED   FS-FIRESTAT   \n",
       "1970         1971       1986  FS-1423128                FED   FS-FIRESTAT   \n",
       "3159         3160       3178  FS-1425640                FED   FS-FIRESTAT   \n",
       "3402         3403       3421  FS-1425995                FED   FS-FIRESTAT   \n",
       "...           ...        ...         ...                ...           ...   \n",
       "1793951   1793952  300205294  FS-6352411                FED   FS-FIRESTAT   \n",
       "1793953   1793954  300205296  FS-6352417                FED   FS-FIRESTAT   \n",
       "1795187   1795188  300206547  FS-6350195                FED   FS-FIRESTAT   \n",
       "1795194   1795195  300206555  FS-6350776                FED   FS-FIRESTAT   \n",
       "1795222   1795223  300206583  FS-6350321                FED   FS-FIRESTAT   \n",
       "\n",
       "        NWCG_REPORTING_AGENCY NWCG_REPORTING_UNIT_ID  \\\n",
       "188                        FS                USAZTNF   \n",
       "1505                       FS                USNMGNF   \n",
       "1970                       FS                USSDBKF   \n",
       "3159                       FS                USIDSCF   \n",
       "3402                       FS                USIDNCF   \n",
       "...                       ...                    ...   \n",
       "1793951                    FS                USIDIPF   \n",
       "1793953                    FS                USIDIPF   \n",
       "1795187                    FS                USCASRF   \n",
       "1795194                    FS                USCASRF   \n",
       "1795222                    FS                USCASRF   \n",
       "\n",
       "                        NWCG_REPORTING_UNIT_NAME SOURCE_REPORTING_UNIT  \\\n",
       "188                        Tonto National Forest                  0312   \n",
       "1505                        Gila National Forest                  0306   \n",
       "1970                 Black Hills National Forest                  0203   \n",
       "3159              Salmon-Challis National Forest                  0413   \n",
       "3402     Nez Perce - Clearwater National Forests                  0105   \n",
       "...                                          ...                   ...   \n",
       "1793951          Idaho Panhandle National Forest                  0104   \n",
       "1793953          Idaho Panhandle National Forest                  0104   \n",
       "1795187               Six Rivers National Forest                  0510   \n",
       "1795194               Six Rivers National Forest                  0510   \n",
       "1795222               Six Rivers National Forest                  0510   \n",
       "\n",
       "              SOURCE_REPORTING_UNIT_NAME  ... FIRE_SIZE_CLASS   LATITUDE  \\\n",
       "188                Tonto National Forest  ...               G  33.723333   \n",
       "1505                Gila National Forest  ...               G  33.613333   \n",
       "1970         Black Hills National Forest  ...               F  44.371944   \n",
       "3159      Salmon-Challis National Forest  ...               F  45.388056   \n",
       "3402          Clearwater National Forest  ...               F  46.342500   \n",
       "...                                  ...  ...             ...        ...   \n",
       "1793951  Idaho Panhandle National Forest  ...               G  47.733611   \n",
       "1793953  Idaho Panhandle National Forest  ...               F  48.001389   \n",
       "1795187       Six Rivers National Forest  ...               G  40.386111   \n",
       "1795194       Six Rivers National Forest  ...               G  40.343056   \n",
       "1795222       Six Rivers National Forest  ...               D  40.672778   \n",
       "\n",
       "          LONGITUDE OWNER_CODE OWNER_DESCR STATE COUNTY FIPS_CODE FIPS_NAME  \\\n",
       "188     -111.275000        5.0        USFS    AZ      7       007      Gila   \n",
       "1505    -108.558889        5.0        USFS    NM      3       003    Catron   \n",
       "1970    -104.174167        5.0        USFS    WY     11       011     Crook   \n",
       "3159    -114.210000        5.0        USFS    ID     59       059     Lemhi   \n",
       "3402    -114.587778        5.0        USFS    ID     49       049     Idaho   \n",
       "...             ...        ...         ...   ...    ...       ...       ...   \n",
       "1793951 -116.130833        5.0        USFS    ID    079       079  Shoshone   \n",
       "1793953 -116.154722        5.0        USFS    ID    079       079  Shoshone   \n",
       "1795187 -123.447222        5.0        USFS    CA    023       023  Humboldt   \n",
       "1795194 -123.383056        5.0        USFS    CA    105       105   Trinity   \n",
       "1795222 -123.601667        5.0        USFS    CA    023       023  Humboldt   \n",
       "\n",
       "                                                     Shape  \n",
       "188      b'\\x00\\x01\\xad\\x10\\x00\\x00\\x98\\x99\\x99\\x99\\x99...  \n",
       "1505     b'\\x00\\x01\\xad\\x10\\x00\\x00t)\\xe8\\xd5\\xc4#[\\xc0...  \n",
       "1970     b'\\x00\\x01\\xad\\x10\\x00\\x00\\x00\\xed\\xf5\\x8b%\\x0...  \n",
       "3159     b'\\x00\\x01\\xad\\x10\\x00\\x00<\\n\\xd7\\xa3p\\x8d\\\\\\x...  \n",
       "3402     b'\\x00\\x01\\xad\\x10\\x00\\x00\\x94\\x9a\\xb1&\\x9e\\xa...  \n",
       "...                                                    ...  \n",
       "1793951  b'\\x00\\x01\\xad\\x10\\x00\\x00\\xe8d\\xc2\\x92_\\x08]\\...  \n",
       "1793953  b'\\x00\\x01\\xad\\x10\\x00\\x00P\\xb7\\x06\\xf8\\xe6\\t]...  \n",
       "1795187  b'\\x00\\x01\\xad\\x10\\x00\\x00p<\\xf2I\\x9f\\xdc^\\xc0...  \n",
       "1795194  b'\\x00\\x01\\xad\\x10\\x00\\x00\\x0c\\xb0w\\xfb\\x83\\xd...  \n",
       "1795222  b'\\x00\\x01\\xad\\x10\\x00\\x00\\x90\\xaf\\xeb\\xb4\\x81...  \n",
       "\n",
       "[415 rows x 39 columns]>"
      ]
     },
     "execution_count": 19,
     "metadata": {},
     "output_type": "execute_result"
    }
   ],
   "source": [
    "wildfireAnalysisDf.describe"
   ]
  },
  {
   "cell_type": "code",
   "execution_count": 35,
   "metadata": {},
   "outputs": [
    {
     "data": {
      "text/plain": [
       "0     33.0\n",
       "1    133.0\n",
       "2    152.0\n",
       "3    185.0\n",
       "4    185.0\n",
       "Name: CONT_DOY, dtype: float64"
      ]
     },
     "execution_count": 35,
     "metadata": {},
     "output_type": "execute_result"
    }
   ],
   "source": [
    "wildfireAnalysisDf[\"CONT_DOY\"].head()"
   ]
  },
  {
   "cell_type": "code",
   "execution_count": 39,
   "metadata": {},
   "outputs": [
    {
     "data": {
      "text/plain": [
       "'03/09/8617'"
      ]
     },
     "execution_count": 39,
     "metadata": {},
     "output_type": "execute_result"
    }
   ],
   "source": [
    "import datetime\n",
    "#TODO: Naveen\n",
    "# investigate convert _DATE columns to Date type\n"
   ]
  },
  {
   "cell_type": "code",
   "execution_count": null,
   "metadata": {},
   "outputs": [],
   "source": [
    "#TODO: Rajeev\n",
    "#Visualize fire count by state"
   ]
  },
  {
   "cell_type": "code",
   "execution_count": null,
   "metadata": {},
   "outputs": [],
   "source": [
    "#TODO: Connor\n",
    "#Visualize lat/lon heatmap"
   ]
  },
  {
   "cell_type": "code",
   "execution_count": null,
   "metadata": {},
   "outputs": [],
   "source": [
    "#TODO: Connor\n",
    "#Investigate time series heatmap"
   ]
  },
  {
   "cell_type": "code",
   "execution_count": null,
   "metadata": {},
   "outputs": [],
   "source": [
    "#TODO: Connor\n",
    "#Visualize fire count over time"
   ]
  },
  {
   "cell_type": "code",
   "execution_count": null,
   "metadata": {},
   "outputs": [],
   "source": [
    "#TODO: Naveen\n",
    "#Visualize avg fire size over time"
   ]
  },
  {
   "cell_type": "code",
   "execution_count": null,
   "metadata": {},
   "outputs": [],
   "source": [
    "#TODO: Rajeev\n",
    "#Plot fire count by DISCOVERY_DOY, or DISCOVERY_DATE investigate converting to month"
   ]
  },
  {
   "cell_type": "code",
   "execution_count": null,
   "metadata": {},
   "outputs": [],
   "source": [
    "#TODO: Rajeev\n",
    "#Plot fire count by CONT_DOY, or CONT_DATE investigate converting to month"
   ]
  },
  {
   "cell_type": "code",
   "execution_count": 33,
   "metadata": {},
   "outputs": [],
   "source": [
    "#TODO: Naveen\n",
    "#Create a new column of duration of fire (CONT_DOY-DISCOVERY_DOY)"
   ]
  },
  {
   "cell_type": "code",
   "execution_count": null,
   "metadata": {},
   "outputs": [],
   "source": [
    "#TODO: Naveen\n",
    "#Plot Duration by time\n",
    "#Plot duration by Fire_Size"
   ]
  },
  {
   "cell_type": "code",
   "execution_count": null,
   "metadata": {},
   "outputs": [],
   "source": [
    "#TODO: Connor\n",
    "#Visualize fire count by STAT_CAUSE_CODE/desc (cause), label with description"
   ]
  }
 ],
 "metadata": {
  "kernelspec": {
   "display_name": "Python 3",
   "language": "python",
   "name": "python3"
  },
  "language_info": {
   "codemirror_mode": {
    "name": "ipython",
    "version": 3
   },
   "file_extension": ".py",
   "mimetype": "text/x-python",
   "name": "python",
   "nbconvert_exporter": "python",
   "pygments_lexer": "ipython3",
   "version": "3.12.0"
  }
 },
 "nbformat": 4,
 "nbformat_minor": 2
}
