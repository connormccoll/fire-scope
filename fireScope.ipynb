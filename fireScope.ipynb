{
 "cells": [
  {
   "cell_type": "markdown",
   "metadata": {},
   "source": [
    "**Import modules**"
   ]
  },
  {
   "cell_type": "code",
   "execution_count": 29,
   "metadata": {},
   "outputs": [],
   "source": [
    "from matplotlib import pyplot as plt\n",
    "import pandas as pd\n",
    "\n",
    "import sqlite3\n",
    "import zipfile\n",
    "\n",
    "plt.style.use('dark_background')"
   ]
  },
  {
   "cell_type": "markdown",
   "metadata": {},
   "source": [
    "**Read in the wildfire dataset and display columns**\n",
    "\n",
    "- Download dataset from https://www.kaggle.com/datasets/rtatman/188-million-us-wildfires/data\n",
    "- unzip into /data directory"
   ]
  },
  {
   "cell_type": "code",
   "execution_count": 3,
   "metadata": {},
   "outputs": [],
   "source": [
    "# extract the zipped dataset\n",
    "\n",
    "with zipfile.ZipFile('./data/archive.zip', 'r') as zipped:\n",
    "    zipped.extractall('./data/')"
   ]
  },
  {
   "cell_type": "code",
   "execution_count": 4,
   "metadata": {},
   "outputs": [],
   "source": [
    "# connect to the sqlite database\n",
    "conn = sqlite3.connect('data/FPA_FOD_20170508.sqlite')"
   ]
  },
  {
   "cell_type": "code",
   "execution_count": 5,
   "metadata": {},
   "outputs": [],
   "source": [
    "tables = pd.read_sql_query(\n",
    "    \"\"\"\n",
    "    SELECT name FROM sqlite_master WHERE type='table'\n",
    "    \"\"\"\n",
    "    , conn)"
   ]
  },
  {
   "cell_type": "code",
   "execution_count": 6,
   "metadata": {},
   "outputs": [
    {
     "data": {
      "text/html": [
       "<div>\n",
       "<style scoped>\n",
       "    .dataframe tbody tr th:only-of-type {\n",
       "        vertical-align: middle;\n",
       "    }\n",
       "\n",
       "    .dataframe tbody tr th {\n",
       "        vertical-align: top;\n",
       "    }\n",
       "\n",
       "    .dataframe thead th {\n",
       "        text-align: right;\n",
       "    }\n",
       "</style>\n",
       "<table border=\"1\" class=\"dataframe\">\n",
       "  <thead>\n",
       "    <tr style=\"text-align: right;\">\n",
       "      <th></th>\n",
       "      <th>name</th>\n",
       "    </tr>\n",
       "  </thead>\n",
       "  <tbody>\n",
       "    <tr>\n",
       "      <th>0</th>\n",
       "      <td>spatial_ref_sys</td>\n",
       "    </tr>\n",
       "    <tr>\n",
       "      <th>1</th>\n",
       "      <td>spatialite_history</td>\n",
       "    </tr>\n",
       "    <tr>\n",
       "      <th>2</th>\n",
       "      <td>sqlite_sequence</td>\n",
       "    </tr>\n",
       "    <tr>\n",
       "      <th>3</th>\n",
       "      <td>geometry_columns</td>\n",
       "    </tr>\n",
       "    <tr>\n",
       "      <th>4</th>\n",
       "      <td>spatial_ref_sys_aux</td>\n",
       "    </tr>\n",
       "    <tr>\n",
       "      <th>5</th>\n",
       "      <td>views_geometry_columns</td>\n",
       "    </tr>\n",
       "    <tr>\n",
       "      <th>6</th>\n",
       "      <td>virts_geometry_columns</td>\n",
       "    </tr>\n",
       "    <tr>\n",
       "      <th>7</th>\n",
       "      <td>geometry_columns_statistics</td>\n",
       "    </tr>\n",
       "    <tr>\n",
       "      <th>8</th>\n",
       "      <td>views_geometry_columns_statistics</td>\n",
       "    </tr>\n",
       "    <tr>\n",
       "      <th>9</th>\n",
       "      <td>virts_geometry_columns_statistics</td>\n",
       "    </tr>\n",
       "    <tr>\n",
       "      <th>10</th>\n",
       "      <td>geometry_columns_field_infos</td>\n",
       "    </tr>\n",
       "    <tr>\n",
       "      <th>11</th>\n",
       "      <td>views_geometry_columns_field_infos</td>\n",
       "    </tr>\n",
       "    <tr>\n",
       "      <th>12</th>\n",
       "      <td>virts_geometry_columns_field_infos</td>\n",
       "    </tr>\n",
       "    <tr>\n",
       "      <th>13</th>\n",
       "      <td>geometry_columns_time</td>\n",
       "    </tr>\n",
       "    <tr>\n",
       "      <th>14</th>\n",
       "      <td>geometry_columns_auth</td>\n",
       "    </tr>\n",
       "    <tr>\n",
       "      <th>15</th>\n",
       "      <td>views_geometry_columns_auth</td>\n",
       "    </tr>\n",
       "    <tr>\n",
       "      <th>16</th>\n",
       "      <td>virts_geometry_columns_auth</td>\n",
       "    </tr>\n",
       "    <tr>\n",
       "      <th>17</th>\n",
       "      <td>sql_statements_log</td>\n",
       "    </tr>\n",
       "    <tr>\n",
       "      <th>18</th>\n",
       "      <td>SpatialIndex</td>\n",
       "    </tr>\n",
       "    <tr>\n",
       "      <th>19</th>\n",
       "      <td>ElementaryGeometries</td>\n",
       "    </tr>\n",
       "    <tr>\n",
       "      <th>20</th>\n",
       "      <td>KNN</td>\n",
       "    </tr>\n",
       "    <tr>\n",
       "      <th>21</th>\n",
       "      <td>Fires</td>\n",
       "    </tr>\n",
       "    <tr>\n",
       "      <th>22</th>\n",
       "      <td>idx_Fires_Shape</td>\n",
       "    </tr>\n",
       "    <tr>\n",
       "      <th>23</th>\n",
       "      <td>idx_Fires_Shape_node</td>\n",
       "    </tr>\n",
       "    <tr>\n",
       "      <th>24</th>\n",
       "      <td>idx_Fires_Shape_rowid</td>\n",
       "    </tr>\n",
       "    <tr>\n",
       "      <th>25</th>\n",
       "      <td>idx_Fires_Shape_parent</td>\n",
       "    </tr>\n",
       "    <tr>\n",
       "      <th>26</th>\n",
       "      <td>NWCG_UnitIDActive_20170109</td>\n",
       "    </tr>\n",
       "  </tbody>\n",
       "</table>\n",
       "</div>"
      ],
      "text/plain": [
       "                                  name\n",
       "0                      spatial_ref_sys\n",
       "1                   spatialite_history\n",
       "2                      sqlite_sequence\n",
       "3                     geometry_columns\n",
       "4                  spatial_ref_sys_aux\n",
       "5               views_geometry_columns\n",
       "6               virts_geometry_columns\n",
       "7          geometry_columns_statistics\n",
       "8    views_geometry_columns_statistics\n",
       "9    virts_geometry_columns_statistics\n",
       "10        geometry_columns_field_infos\n",
       "11  views_geometry_columns_field_infos\n",
       "12  virts_geometry_columns_field_infos\n",
       "13               geometry_columns_time\n",
       "14               geometry_columns_auth\n",
       "15         views_geometry_columns_auth\n",
       "16         virts_geometry_columns_auth\n",
       "17                  sql_statements_log\n",
       "18                        SpatialIndex\n",
       "19                ElementaryGeometries\n",
       "20                                 KNN\n",
       "21                               Fires\n",
       "22                     idx_Fires_Shape\n",
       "23                idx_Fires_Shape_node\n",
       "24               idx_Fires_Shape_rowid\n",
       "25              idx_Fires_Shape_parent\n",
       "26          NWCG_UnitIDActive_20170109"
      ]
     },
     "execution_count": 6,
     "metadata": {},
     "output_type": "execute_result"
    }
   ],
   "source": [
    "# Print out the table names\n",
    "tables"
   ]
  },
  {
   "cell_type": "markdown",
   "metadata": {},
   "source": [
    "**Utilizing Fires Table**"
   ]
  },
  {
   "cell_type": "code",
   "execution_count": 11,
   "metadata": {},
   "outputs": [],
   "source": [
    "# read in the fires table\n",
    "\n",
    "\n",
    "wildfireDf = pd.read_sql_query(\n",
    "    \"\"\"\n",
    "    SELECT * \n",
    "    FROM fires\n",
    "    WHERE FIRE_YEAR > 2005\n",
    "    \"\"\"\n",
    "    , conn)"
   ]
  },
  {
   "cell_type": "markdown",
   "metadata": {},
   "source": [
    "**Exploratory Data Analysis**\n",
    "Display the first 5 rows"
   ]
  },
  {
   "cell_type": "code",
   "execution_count": 12,
   "metadata": {},
   "outputs": [
    {
     "data": {
      "text/plain": [
       "Index(['OBJECTID', 'FOD_ID', 'FPA_ID', 'SOURCE_SYSTEM_TYPE', 'SOURCE_SYSTEM',\n",
       "       'NWCG_REPORTING_AGENCY', 'NWCG_REPORTING_UNIT_ID',\n",
       "       'NWCG_REPORTING_UNIT_NAME', 'SOURCE_REPORTING_UNIT',\n",
       "       'SOURCE_REPORTING_UNIT_NAME', 'LOCAL_FIRE_REPORT_ID',\n",
       "       'LOCAL_INCIDENT_ID', 'FIRE_CODE', 'FIRE_NAME',\n",
       "       'ICS_209_INCIDENT_NUMBER', 'ICS_209_NAME', 'MTBS_ID', 'MTBS_FIRE_NAME',\n",
       "       'COMPLEX_NAME', 'FIRE_YEAR', 'DISCOVERY_DATE', 'DISCOVERY_DOY',\n",
       "       'DISCOVERY_TIME', 'STAT_CAUSE_CODE', 'STAT_CAUSE_DESCR', 'CONT_DATE',\n",
       "       'CONT_DOY', 'CONT_TIME', 'FIRE_SIZE', 'FIRE_SIZE_CLASS', 'LATITUDE',\n",
       "       'LONGITUDE', 'OWNER_CODE', 'OWNER_DESCR', 'STATE', 'COUNTY',\n",
       "       'FIPS_CODE', 'FIPS_NAME', 'Shape'],\n",
       "      dtype='object')"
      ]
     },
     "execution_count": 12,
     "metadata": {},
     "output_type": "execute_result"
    }
   ],
   "source": [
    "wildfireDf.columns"
   ]
  },
  {
   "cell_type": "code",
   "execution_count": 13,
   "metadata": {},
   "outputs": [
    {
     "data": {
      "text/plain": [
       "<bound method NDFrame.describe of         OBJECTID     FOD_ID             FPA_ID SOURCE_SYSTEM_TYPE  \\\n",
       "0           2259       2274         FS-1423892                FED   \n",
       "1           5841       5867         FS-1429962                FED   \n",
       "2           6351       6380         FS-1430814                FED   \n",
       "3           6372       6401         FS-1430851                FED   \n",
       "4           6391       6420         FS-1430883                FED   \n",
       "...          ...        ...                ...                ...   \n",
       "823509   1880461  300348363  2015CAIRS29019636             NONFED   \n",
       "823510   1880462  300348373  2015CAIRS29217935             NONFED   \n",
       "823511   1880463  300348375  2015CAIRS28364460             NONFED   \n",
       "823512   1880464  300348377  2015CAIRS29218079             NONFED   \n",
       "823513   1880465  300348399  2015CAIRS26733926             NONFED   \n",
       "\n",
       "       SOURCE_SYSTEM NWCG_REPORTING_AGENCY NWCG_REPORTING_UNIT_ID  \\\n",
       "0        FS-FIRESTAT                    FS                USMTBDF   \n",
       "1        FS-FIRESTAT                    FS                USMIHMF   \n",
       "2        FS-FIRESTAT                    FS                USAROZF   \n",
       "3        FS-FIRESTAT                    FS                USAROUF   \n",
       "4        FS-FIRESTAT                    FS                USAROUF   \n",
       "...              ...                   ...                    ...   \n",
       "823509      ST-CACDF                ST/C&L                USCASHU   \n",
       "823510      ST-CACDF                ST/C&L                USCATCU   \n",
       "823511      ST-CACDF                ST/C&L                USCATCU   \n",
       "823512      ST-CACDF                ST/C&L                USCATCU   \n",
       "823513      ST-CACDF                ST/C&L                USCABDU   \n",
       "\n",
       "                    NWCG_REPORTING_UNIT_NAME SOURCE_REPORTING_UNIT  \\\n",
       "0       Beaverhead/Deerlodge National Forest                  0102   \n",
       "1             Huron-Manistee National Forest                  0904   \n",
       "2       Ozark & St. Francis National Forests                  0810   \n",
       "3                   Ouachita National Forest                  0809   \n",
       "4                   Ouachita National Forest                  0809   \n",
       "...                                      ...                   ...   \n",
       "823509                   Shasta-Trinity Unit                 CASHU   \n",
       "823510               Tuolumne-Calaveras Unit                 CATCU   \n",
       "823511               Tuolumne-Calaveras Unit                 CATCU   \n",
       "823512               Tuolumne-Calaveras Unit                 CATCU   \n",
       "823513                   San Bernardino Unit                 CABDU   \n",
       "\n",
       "                  SOURCE_REPORTING_UNIT_NAME  ... FIRE_SIZE_CLASS   LATITUDE  \\\n",
       "0       Beaverhead-Deerlodge National Forest  ...               C  45.537222   \n",
       "1             Huron-Manistee National Forest  ...               A  44.566389   \n",
       "2          Ozark-St. Francis National Forest  ...               B  35.668611   \n",
       "3                   Ouachita National Forest  ...               C  34.799444   \n",
       "4                   Ouachita National Forest  ...               B  33.746944   \n",
       "...                                      ...  ...             ...        ...   \n",
       "823509                   Shasta-Trinity Unit  ...               A  40.481637   \n",
       "823510               Tuolumne-Calaveras Unit  ...               A  37.617619   \n",
       "823511               Tuolumne-Calaveras Unit  ...               A  37.617619   \n",
       "823512               Tuolumne-Calaveras Unit  ...               B  37.672235   \n",
       "823513             CDF - San Bernardino Unit  ...               A  34.263217   \n",
       "\n",
       "         LONGITUDE OWNER_CODE       OWNER_DESCR STATE COUNTY FIPS_CODE  \\\n",
       "0      -111.587778        6.0     OTHER FEDERAL    MT     57       057   \n",
       "1       -83.993611        5.0              USFS    MI    135       135   \n",
       "2       -94.280556        5.0              USFS    AR     33       033   \n",
       "3       -94.725278        5.0              USFS    OK     79       079   \n",
       "4       -94.589722        5.0              USFS    OK     89       089   \n",
       "...            ...        ...               ...   ...    ...       ...   \n",
       "823509 -122.389375       13.0  STATE OR PRIVATE    CA   None      None   \n",
       "823510 -120.938570       12.0   MUNICIPAL/LOCAL    CA   None      None   \n",
       "823511 -120.938570       12.0   MUNICIPAL/LOCAL    CA   None      None   \n",
       "823512 -120.898356       12.0   MUNICIPAL/LOCAL    CA   None      None   \n",
       "823513 -116.830950       13.0  STATE OR PRIVATE    CA   None      None   \n",
       "\n",
       "        FIPS_NAME                                              Shape  \n",
       "0         Madison  b'\\x00\\x01\\xad\\x10\\x00\\x00\\x94\\x9a\\xb1&\\x9e\\xe...  \n",
       "1          Oscoda  b'\\x00\\x01\\xad\\x10\\x00\\x00\\x18\\x99\\rS\\x97\\xffT...  \n",
       "2        Crawford  b'\\x00\\x01\\xad\\x10\\x00\\x00L\\xbaN\\x9f\\xf4\\x91W\\...  \n",
       "3        Le Flore  b'\\x00\\x01\\xad\\x10\\x00\\x00`g~\\xf3j\\xaeW\\xc0xb\\...  \n",
       "4       McCurtain  b\"\\x00\\x01\\xad\\x10\\x00\\x00\\xf4'D\\x02\\xbe\\xa5W\\...  \n",
       "...           ...                                                ...  \n",
       "823509       None  b'\\x00\\x01\\xad\\x10\\x00\\x00P\\xb8\\x1e\\x85\\xeb\\x9...  \n",
       "823510       None  b'\\x00\\x01\\xad\\x10\\x00\\x00\\x00\\x80\\xbe\\x88\\x11...  \n",
       "823511       None  b'\\x00\\x01\\xad\\x10\\x00\\x00\\x00\\x80\\xbe\\x88\\x11...  \n",
       "823512       None  b'\\x00\\x01\\xad\\x10\\x00\\x00x\\xba_\\xaa~9^\\xc0\\xb...  \n",
       "823513       None  b'\\x00\\x01\\xad\\x10\\x00\\x00\\x1c\\xa7\\xe8H.5]\\xc0...  \n",
       "\n",
       "[823514 rows x 39 columns]>"
      ]
     },
     "execution_count": 13,
     "metadata": {},
     "output_type": "execute_result"
    }
   ],
   "source": [
    "# Describe the dataset\n",
    "wildfireDf.describe"
   ]
  },
  {
   "cell_type": "code",
   "execution_count": 17,
   "metadata": {},
   "outputs": [],
   "source": [
    "#TODO: Naveen\n",
    "#Clean dataframe, later drop columns we don't end up using\n",
    "# don't drop na\n"
   ]
  },
  {
   "cell_type": "code",
   "execution_count": 14,
   "metadata": {},
   "outputs": [],
   "source": [
    "wildfireAnalysisDf = wildfireDf.drop_duplicates()"
   ]
  },
  {
   "cell_type": "code",
   "execution_count": 23,
   "metadata": {},
   "outputs": [
    {
     "data": {
      "text/plain": [
       "Index(['OBJECTID', 'FOD_ID', 'FPA_ID', 'SOURCE_SYSTEM_TYPE', 'SOURCE_SYSTEM',\n",
       "       'NWCG_REPORTING_AGENCY', 'NWCG_REPORTING_UNIT_ID',\n",
       "       'NWCG_REPORTING_UNIT_NAME', 'SOURCE_REPORTING_UNIT',\n",
       "       'SOURCE_REPORTING_UNIT_NAME', 'LOCAL_FIRE_REPORT_ID',\n",
       "       'LOCAL_INCIDENT_ID', 'FIRE_CODE', 'FIRE_NAME',\n",
       "       'ICS_209_INCIDENT_NUMBER', 'ICS_209_NAME', 'MTBS_ID', 'MTBS_FIRE_NAME',\n",
       "       'COMPLEX_NAME', 'FIRE_YEAR', 'DISCOVERY_DATE', 'DISCOVERY_DOY',\n",
       "       'DISCOVERY_TIME', 'STAT_CAUSE_CODE', 'STAT_CAUSE_DESCR', 'CONT_DATE',\n",
       "       'CONT_DOY', 'CONT_TIME', 'FIRE_SIZE', 'FIRE_SIZE_CLASS', 'LATITUDE',\n",
       "       'LONGITUDE', 'OWNER_CODE', 'OWNER_DESCR', 'STATE', 'COUNTY',\n",
       "       'FIPS_CODE', 'FIPS_NAME', 'Shape'],\n",
       "      dtype='object')"
      ]
     },
     "execution_count": 23,
     "metadata": {},
     "output_type": "execute_result"
    }
   ],
   "source": [
    "wildfireAnalysisDf.columns"
   ]
  },
  {
   "cell_type": "code",
   "execution_count": 15,
   "metadata": {},
   "outputs": [
    {
     "data": {
      "text/plain": [
       "<bound method NDFrame.describe of         OBJECTID     FOD_ID             FPA_ID SOURCE_SYSTEM_TYPE  \\\n",
       "0           2259       2274         FS-1423892                FED   \n",
       "1           5841       5867         FS-1429962                FED   \n",
       "2           6351       6380         FS-1430814                FED   \n",
       "3           6372       6401         FS-1430851                FED   \n",
       "4           6391       6420         FS-1430883                FED   \n",
       "...          ...        ...                ...                ...   \n",
       "823509   1880461  300348363  2015CAIRS29019636             NONFED   \n",
       "823510   1880462  300348373  2015CAIRS29217935             NONFED   \n",
       "823511   1880463  300348375  2015CAIRS28364460             NONFED   \n",
       "823512   1880464  300348377  2015CAIRS29218079             NONFED   \n",
       "823513   1880465  300348399  2015CAIRS26733926             NONFED   \n",
       "\n",
       "       SOURCE_SYSTEM NWCG_REPORTING_AGENCY NWCG_REPORTING_UNIT_ID  \\\n",
       "0        FS-FIRESTAT                    FS                USMTBDF   \n",
       "1        FS-FIRESTAT                    FS                USMIHMF   \n",
       "2        FS-FIRESTAT                    FS                USAROZF   \n",
       "3        FS-FIRESTAT                    FS                USAROUF   \n",
       "4        FS-FIRESTAT                    FS                USAROUF   \n",
       "...              ...                   ...                    ...   \n",
       "823509      ST-CACDF                ST/C&L                USCASHU   \n",
       "823510      ST-CACDF                ST/C&L                USCATCU   \n",
       "823511      ST-CACDF                ST/C&L                USCATCU   \n",
       "823512      ST-CACDF                ST/C&L                USCATCU   \n",
       "823513      ST-CACDF                ST/C&L                USCABDU   \n",
       "\n",
       "                    NWCG_REPORTING_UNIT_NAME SOURCE_REPORTING_UNIT  \\\n",
       "0       Beaverhead/Deerlodge National Forest                  0102   \n",
       "1             Huron-Manistee National Forest                  0904   \n",
       "2       Ozark & St. Francis National Forests                  0810   \n",
       "3                   Ouachita National Forest                  0809   \n",
       "4                   Ouachita National Forest                  0809   \n",
       "...                                      ...                   ...   \n",
       "823509                   Shasta-Trinity Unit                 CASHU   \n",
       "823510               Tuolumne-Calaveras Unit                 CATCU   \n",
       "823511               Tuolumne-Calaveras Unit                 CATCU   \n",
       "823512               Tuolumne-Calaveras Unit                 CATCU   \n",
       "823513                   San Bernardino Unit                 CABDU   \n",
       "\n",
       "                  SOURCE_REPORTING_UNIT_NAME  ... FIRE_SIZE_CLASS   LATITUDE  \\\n",
       "0       Beaverhead-Deerlodge National Forest  ...               C  45.537222   \n",
       "1             Huron-Manistee National Forest  ...               A  44.566389   \n",
       "2          Ozark-St. Francis National Forest  ...               B  35.668611   \n",
       "3                   Ouachita National Forest  ...               C  34.799444   \n",
       "4                   Ouachita National Forest  ...               B  33.746944   \n",
       "...                                      ...  ...             ...        ...   \n",
       "823509                   Shasta-Trinity Unit  ...               A  40.481637   \n",
       "823510               Tuolumne-Calaveras Unit  ...               A  37.617619   \n",
       "823511               Tuolumne-Calaveras Unit  ...               A  37.617619   \n",
       "823512               Tuolumne-Calaveras Unit  ...               B  37.672235   \n",
       "823513             CDF - San Bernardino Unit  ...               A  34.263217   \n",
       "\n",
       "         LONGITUDE OWNER_CODE       OWNER_DESCR STATE COUNTY FIPS_CODE  \\\n",
       "0      -111.587778        6.0     OTHER FEDERAL    MT     57       057   \n",
       "1       -83.993611        5.0              USFS    MI    135       135   \n",
       "2       -94.280556        5.0              USFS    AR     33       033   \n",
       "3       -94.725278        5.0              USFS    OK     79       079   \n",
       "4       -94.589722        5.0              USFS    OK     89       089   \n",
       "...            ...        ...               ...   ...    ...       ...   \n",
       "823509 -122.389375       13.0  STATE OR PRIVATE    CA   None      None   \n",
       "823510 -120.938570       12.0   MUNICIPAL/LOCAL    CA   None      None   \n",
       "823511 -120.938570       12.0   MUNICIPAL/LOCAL    CA   None      None   \n",
       "823512 -120.898356       12.0   MUNICIPAL/LOCAL    CA   None      None   \n",
       "823513 -116.830950       13.0  STATE OR PRIVATE    CA   None      None   \n",
       "\n",
       "        FIPS_NAME                                              Shape  \n",
       "0         Madison  b'\\x00\\x01\\xad\\x10\\x00\\x00\\x94\\x9a\\xb1&\\x9e\\xe...  \n",
       "1          Oscoda  b'\\x00\\x01\\xad\\x10\\x00\\x00\\x18\\x99\\rS\\x97\\xffT...  \n",
       "2        Crawford  b'\\x00\\x01\\xad\\x10\\x00\\x00L\\xbaN\\x9f\\xf4\\x91W\\...  \n",
       "3        Le Flore  b'\\x00\\x01\\xad\\x10\\x00\\x00`g~\\xf3j\\xaeW\\xc0xb\\...  \n",
       "4       McCurtain  b\"\\x00\\x01\\xad\\x10\\x00\\x00\\xf4'D\\x02\\xbe\\xa5W\\...  \n",
       "...           ...                                                ...  \n",
       "823509       None  b'\\x00\\x01\\xad\\x10\\x00\\x00P\\xb8\\x1e\\x85\\xeb\\x9...  \n",
       "823510       None  b'\\x00\\x01\\xad\\x10\\x00\\x00\\x00\\x80\\xbe\\x88\\x11...  \n",
       "823511       None  b'\\x00\\x01\\xad\\x10\\x00\\x00\\x00\\x80\\xbe\\x88\\x11...  \n",
       "823512       None  b'\\x00\\x01\\xad\\x10\\x00\\x00x\\xba_\\xaa~9^\\xc0\\xb...  \n",
       "823513       None  b'\\x00\\x01\\xad\\x10\\x00\\x00\\x1c\\xa7\\xe8H.5]\\xc0...  \n",
       "\n",
       "[823514 rows x 39 columns]>"
      ]
     },
     "execution_count": 15,
     "metadata": {},
     "output_type": "execute_result"
    }
   ],
   "source": [
    "wildfireAnalysisDf.describe"
   ]
  },
  {
   "cell_type": "code",
   "execution_count": 35,
   "metadata": {},
   "outputs": [
    {
     "data": {
      "text/plain": [
       "0     33.0\n",
       "1    133.0\n",
       "2    152.0\n",
       "3    185.0\n",
       "4    185.0\n",
       "Name: CONT_DOY, dtype: float64"
      ]
     },
     "execution_count": 35,
     "metadata": {},
     "output_type": "execute_result"
    }
   ],
   "source": [
    "wildfireAnalysisDf[\"CONT_DOY\"].head()"
   ]
  },
  {
   "cell_type": "code",
   "execution_count": 39,
   "metadata": {},
   "outputs": [
    {
     "data": {
      "text/plain": [
       "'03/09/8617'"
      ]
     },
     "execution_count": 39,
     "metadata": {},
     "output_type": "execute_result"
    }
   ],
   "source": [
    "import datetime\n",
    "#TODO: Naveen\n",
    "# investigate convert _DATE columns to Date type\n"
   ]
  },
  {
   "cell_type": "code",
   "execution_count": null,
   "metadata": {},
   "outputs": [],
   "source": [
    "#TODO: Rajeev\n",
    "#Visualize fire count by state"
   ]
  },
  {
   "cell_type": "code",
   "execution_count": null,
   "metadata": {},
   "outputs": [],
   "source": [
    "#TODO: Connor\n",
    "#Visualize lat/lon heatmap"
   ]
  },
  {
   "cell_type": "code",
   "execution_count": null,
   "metadata": {},
   "outputs": [],
   "source": [
    "#TODO: Connor\n",
    "#Investigate time series heatmap"
   ]
  },
  {
   "cell_type": "code",
   "execution_count": 18,
   "metadata": {},
   "outputs": [],
   "source": [
    "#TODO: Connor\n",
    "#Visualize fire count over time\n",
    "firesOverTimeDf = pd.read_sql_query(\n",
    "    \"\"\"\n",
    "    SELECT FIRE_YEAR, COUNT(*) AS Count\n",
    "    FROM fires\n",
    "    GROUP BY FIRE_YEAR\n",
    "    \"\"\"\n",
    "    , conn)\n"
   ]
  },
  {
   "cell_type": "code",
   "execution_count": 19,
   "metadata": {},
   "outputs": [
    {
     "data": {
      "text/html": [
       "<div>\n",
       "<style scoped>\n",
       "    .dataframe tbody tr th:only-of-type {\n",
       "        vertical-align: middle;\n",
       "    }\n",
       "\n",
       "    .dataframe tbody tr th {\n",
       "        vertical-align: top;\n",
       "    }\n",
       "\n",
       "    .dataframe thead th {\n",
       "        text-align: right;\n",
       "    }\n",
       "</style>\n",
       "<table border=\"1\" class=\"dataframe\">\n",
       "  <thead>\n",
       "    <tr style=\"text-align: right;\">\n",
       "      <th></th>\n",
       "      <th>FIRE_YEAR</th>\n",
       "      <th>Count</th>\n",
       "    </tr>\n",
       "  </thead>\n",
       "  <tbody>\n",
       "    <tr>\n",
       "      <th>0</th>\n",
       "      <td>1992</td>\n",
       "      <td>67975</td>\n",
       "    </tr>\n",
       "    <tr>\n",
       "      <th>1</th>\n",
       "      <td>1993</td>\n",
       "      <td>61989</td>\n",
       "    </tr>\n",
       "    <tr>\n",
       "      <th>2</th>\n",
       "      <td>1994</td>\n",
       "      <td>75955</td>\n",
       "    </tr>\n",
       "    <tr>\n",
       "      <th>3</th>\n",
       "      <td>1995</td>\n",
       "      <td>71472</td>\n",
       "    </tr>\n",
       "    <tr>\n",
       "      <th>4</th>\n",
       "      <td>1996</td>\n",
       "      <td>75574</td>\n",
       "    </tr>\n",
       "  </tbody>\n",
       "</table>\n",
       "</div>"
      ],
      "text/plain": [
       "   FIRE_YEAR  Count\n",
       "0       1992  67975\n",
       "1       1993  61989\n",
       "2       1994  75955\n",
       "3       1995  71472\n",
       "4       1996  75574"
      ]
     },
     "execution_count": 19,
     "metadata": {},
     "output_type": "execute_result"
    }
   ],
   "source": [
    "# Check the first 5 rows\n",
    "firesOverTimeDf.head()"
   ]
  },
  {
   "cell_type": "code",
   "execution_count": 30,
   "metadata": {},
   "outputs": [
    {
     "data": {
      "text/plain": [
       "Text(0.5, 1.0, 'Reported Wildfire Count by Year')"
      ]
     },
     "execution_count": 30,
     "metadata": {},
     "output_type": "execute_result"
    },
    {
     "data": {
      "image/png": "[encoded data removed]",
      "text/plain": [
       "<Figure size 640x480 with 1 Axes>"
      ]
     },
     "metadata": {},
     "output_type": "display_data"
    }
   ],
   "source": [
    "plt.plot(firesOverTimeDf[[\"FIRE_YEAR\"]],firesOverTimeDf[[\"Count\"]])\n",
    "plt.xlabel(\"Year\")\n",
    "plt.ylabel(\"Reported Wildfire Count\")\n",
    "plt.title(\"Reported Wildfire Count by Year\")"
   ]
  },
  {
   "cell_type": "code",
   "execution_count": null,
   "metadata": {},
   "outputs": [],
   "source": [
    "#TODO: Naveen\n",
    "#Visualize avg fire size over time"
   ]
  },
  {
   "cell_type": "code",
   "execution_count": null,
   "metadata": {},
   "outputs": [],
   "source": [
    "#TODO: Rajeev\n",
    "#Plot fire count by DISCOVERY_DOY, or DISCOVERY_DATE investigate converting to month"
   ]
  },
  {
   "cell_type": "code",
   "execution_count": null,
   "metadata": {},
   "outputs": [],
   "source": [
    "#TODO: Rajeev\n",
    "#Plot fire count by CONT_DOY, or CONT_DATE investigate converting to month"
   ]
  },
  {
   "cell_type": "code",
   "execution_count": 33,
   "metadata": {},
   "outputs": [],
   "source": [
    "#TODO: Naveen\n",
    "#Create a new column of duration of fire (CONT_DOY-DISCOVERY_DOY)"
   ]
  },
  {
   "cell_type": "code",
   "execution_count": null,
   "metadata": {},
   "outputs": [],
   "source": [
    "#TODO: Naveen\n",
    "#Plot Duration by time\n",
    "#Plot duration by Fire_Size"
   ]
  },
  {
   "cell_type": "code",
   "execution_count": null,
   "metadata": {},
   "outputs": [],
   "source": [
    "#TODO: Connor\n",
    "#Visualize fire count by STAT_CAUSE_CODE/desc (cause), label with description"
   ]
  }
 ],
 "metadata": {
  "kernelspec": {
   "display_name": "Python 3",
   "language": "python",
   "name": "python3"
  },
  "language_info": {
   "codemirror_mode": {
    "name": "ipython",
    "version": 3
   },
   "file_extension": ".py",
   "mimetype": "text/x-python",
   "name": "python",
   "nbconvert_exporter": "python",
   "pygments_lexer": "ipython3",
   "version": "3.12.0"
  }
 },
 "nbformat": 4,
 "nbformat_minor": 2
}
